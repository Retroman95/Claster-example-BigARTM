{
 "cells": [
  {
   "cell_type": "code",
   "execution_count": 40,
   "metadata": {},
   "outputs": [],
   "source": [
    "import artm"
   ]
  },
  {
   "cell_type": "code",
   "execution_count": 56,
   "metadata": {},
   "outputs": [],
   "source": [
    "batch_vectorizer = artm.BatchVectorizer(data_path=\"all news.txt\", data_format=\"vowpal_wabbit\", target_folder=\"habrhabr\", \n",
    "                                       batch_size=100)"
   ]
  },
  {
   "cell_type": "code",
   "execution_count": 57,
   "metadata": {},
   "outputs": [],
   "source": [
    "batch_vectorizer = artm.BatchVectorizer(data_path='habrhabr',data_format='batches')"
   ]
  },
  {
   "cell_type": "code",
   "execution_count": 58,
   "metadata": {},
   "outputs": [],
   "source": [
    "T = 6   # количество тем\n",
    "model_artm = artm.ARTM(num_topics=T, topic_names=[\"sbj\"+str(i) for i in range(T)], class_ids={\"text\":1})\n",
    "# число после названия модальностей - это их веса"
   ]
  },
  {
   "cell_type": "code",
   "execution_count": 59,
   "metadata": {
    "scrolled": false
   },
   "outputs": [
    {
     "name": "stdout",
     "output_type": "stream",
     "text": [
      "artm.ARTM(num_topics=6, num_tokens=44538)\n"
     ]
    }
   ],
   "source": [
    "batch_vectorizer = artm.BatchVectorizer(data_path='habrhabr',data_format='batches')\n",
    "dictionary = artm.Dictionary(data_path='habrhabr')# загрузка данных в словарь\n",
    "model = artm.ARTM(num_topics=6,\n",
    "                  topic_names=[\"topic_\"+str(i) for i in range(T)],\n",
    "                  num_document_passes=10,#10 проходов по документу\n",
    "                  dictionary=dictionary,\n",
    "                  scores=[artm.TopTokensScore(name='top_tokens_score')])\n",
    "model.fit_offline(batch_vectorizer=batch_vectorizer, num_collection_passes=10)#10 проходов по коллекции\n",
    "top_tokens = model.score_tracker['top_tokens_score']\n",
    "print(model)"
   ]
  },
  {
   "cell_type": "code",
   "execution_count": 60,
   "metadata": {
    "scrolled": true
   },
   "outputs": [
    {
     "name": "stdout",
     "output_type": "stream",
     "text": [
      "topic_0\n",
      "работа - 0.015\n",
      "кафедра - 0.015\n",
      "конференция - 0.014\n",
      "сгту - 0.013\n",
      "студент - 0.013\n",
      "научный - 0.008\n",
      "язык - 0.008\n",
      "социальный - 0.007\n",
      "университет - 0.007\n",
      "факультет - 0.007\n",
      "topic_1\n",
      "сгту - 0.034\n",
      "студент - 0.021\n",
      "студенческий - 0.01\n",
      "мероприятие - 0.009\n",
      "команда - 0.008\n",
      "университет - 0.008\n",
      "который - 0.008\n",
      "день - 0.007\n",
      "сотрудник - 0.007\n",
      "работа - 0.006\n",
      "topic_2\n",
      "день - 0.019\n",
      "праздник - 0.01\n",
      "россия - 0.009\n",
      "который - 0.008\n",
      "один - 0.006\n",
      "человек - 0.006\n",
      "война - 0.006\n",
      "страна - 0.005\n",
      "военный - 0.005\n",
      "тот - 0.005\n",
      "topic_3\n",
      "сгту - 0.023\n",
      "проект - 0.012\n",
      "технология - 0.012\n",
      "область - 0.009\n",
      "инновационный - 0.009\n",
      "университет - 0.009\n",
      "наука - 0.009\n",
      "учёный - 0.009\n",
      "саратовский - 0.009\n",
      "научный - 0.008\n",
      "topic_4\n",
      "сгту - 0.013\n",
      "вуз - 0.011\n",
      "программа - 0.009\n",
      "университет - 0.009\n",
      "бюджетный - 0.009\n",
      "образование - 0.009\n",
      "который - 0.007\n",
      "конкурс - 0.006\n",
      "технический - 0.006\n",
      "обучение - 0.006\n",
      "topic_5\n",
      "сгту - 0.026\n",
      "место - 0.023\n",
      "студент - 0.014\n",
      "соревнование - 0.012\n",
      "команда - 0.01\n",
      "саратовский - 0.01\n",
      "участие - 0.01\n",
      "колледж - 0.008\n",
      "занять - 0.007\n",
      "область - 0.007\n"
     ]
    }
   ],
   "source": [
    "for topic_name in model.topic_names:\n",
    "    print (topic_name)\n",
    "    for (token, weight) in zip(top_tokens.last_tokens[topic_name],\n",
    "                               top_tokens.last_weights[topic_name]):    \n",
    "         print (token, '-', round(weight,3))"
   ]
  },
  {
   "cell_type": "code",
   "execution_count": null,
   "metadata": {},
   "outputs": [],
   "source": []
  }
 ],
 "metadata": {
  "kernelspec": {
   "display_name": "Python 3",
   "language": "python",
   "name": "python3"
  },
  "language_info": {
   "codemirror_mode": {
    "name": "ipython",
    "version": 3
   },
   "file_extension": ".py",
   "mimetype": "text/x-python",
   "name": "python",
   "nbconvert_exporter": "python",
   "pygments_lexer": "ipython3",
   "version": "3.6.5"
  }
 },
 "nbformat": 4,
 "nbformat_minor": 2
}
